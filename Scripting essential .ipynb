{
  "nbformat": 4,
  "nbformat_minor": 0,
  "metadata": {
    "colab": {
      "name": "Shell_Script.ipynb",
      "provenance": [],
      "collapsed_sections": [],
      "authorship_tag": "ABX9TyNvOOwxEqgA4c8ly5lDjJwm",
      "include_colab_link": true
    },
    "kernelspec": {
      "name": "python3",
      "display_name": "Python 3"
    },
    "language_info": {
      "name": "python"
    }
  },
  "cells": [
    {
      "cell_type": "markdown",
      "metadata": {
        "id": "view-in-github",
        "colab_type": "text"
      },
      "source": [
        "<a href=\"https://colab.research.google.com/github/rnadjqaim/BashSripct-DevOps/blob/main/Scripting%20essential%20.ipynb\" target=\"_parent\"><img src=\"https://colab.research.google.com/assets/colab-badge.svg\" alt=\"Open In Colab\"/></a>"
      ]
    },
    {
      "cell_type": "code",
      "execution_count": null,
      "metadata": {
        "id": "dMAWd_Ud0voq"
      },
      "outputs": [],
      "source": [
        "# Auther : Rnad Jqim \n",
        "# Date : 9-8-2022\n",
        "\n",
        "echo \"File Name: $0\"\n",
        "echo \"File Parmeter: $1\"\n",
        "echo \"Quted Values: $@\"\n",
        "echo \"Total Number of Parameters: $#\"\n",
        "\n"
      ]
    },
    {
      "cell_type": "code",
      "source": [
        "for TOKEN in $*\n",
        "do \n",
        "    echo $TOKEN \n",
        "done     "
      ],
      "metadata": {
        "id": "RUMaZTjNWM9M"
      },
      "execution_count": null,
      "outputs": []
    },
    {
      "cell_type": "markdown",
      "source": [
        "the result \n",
        "Rnad\n",
        "Abu\n",
        "Jqaim\n",
        "24\n",
        "Amman\n"
      ],
      "metadata": {
        "id": "qXXbvwTnWte4"
      }
    },
    {
      "cell_type": "code",
      "source": [
        "#array in bash shell \n",
        "n[0]=\"rnad\"\n",
        "n[1]=\"mohamad\"\n",
        "val=`expr 2+2`\n",
        "echo \"Total value : $val\"\n",
        "echo \"First Index : ${n[0]}\n",
        "echo \"All Element: ${n[*]}\"\n",
        "echo \"All Element: ${n[@]}\"\n",
        "\n"
      ],
      "metadata": {
        "colab": {
          "base_uri": "https://localhost:8080/",
          "height": 130
        },
        "id": "LNHL9AywW1qP",
        "outputId": "ee902ccc-9e51-4e89-c17b-9583933353c5"
      },
      "execution_count": null,
      "outputs": [
        {
          "output_type": "error",
          "ename": "SyntaxError",
          "evalue": "ignored",
          "traceback": [
            "\u001b[0;36m  File \u001b[0;32m\"<ipython-input-2-7fb160d2bd27>\"\u001b[0;36m, line \u001b[0;32m4\u001b[0m\n\u001b[0;31m    echo \"First Index : ${n[0]}\"\u001b[0m\n\u001b[0m                               ^\u001b[0m\n\u001b[0;31mSyntaxError\u001b[0m\u001b[0;31m:\u001b[0m invalid syntax\n"
          ]
        }
      ]
    },
    {
      "cell_type": "code",
      "source": [
        "#if statemnet \n",
        "# shell \n",
        "a=10\n",
        "b=20\n",
        "if [$a == $b]\n",
        "then \n",
        "   echo \"a is equal to b\"\n",
        "fi\n",
        "\n",
        "if [$a != $b]\n",
        "then \n",
        "   echo \"a is not equal to b\"\n",
        "fi\n",
        "\n",
        "\n",
        "\n",
        "\n",
        "\n",
        "\n",
        "\n"
      ],
      "metadata": {
        "id": "A_H4vE9VgjG_"
      },
      "execution_count": null,
      "outputs": []
    },
    {
      "cell_type": "code",
      "source": [
        "#logical \n",
        "a=10\n",
        "b=20\n",
        "if [$a -eq $b] \n",
        "then \n",
        "    echo \"the value is not equal\"\n",
        "fi \n",
        "\n",
        "if []"
      ],
      "metadata": {
        "id": "sbT4wDlOk449"
      },
      "execution_count": null,
      "outputs": []
    },
    {
      "cell_type": "code",
      "source": [
        "\n",
        "echo $a=10\n",
        "echo $b=20\n",
        "if [$a -eq $b] \n",
        "then \n",
        "    echo \"the value is not equal\"\n",
        "fi \n",
        "\n",
        "if []$a -ne $b ]\n",
        "then \n",
        "    echo \"the value is not equal , 2\"\n",
        "fi \n",
        "\n",
        "     "
      ],
      "metadata": {
        "id": "qUFjSU500Bh5"
      },
      "execution_count": null,
      "outputs": []
    },
    {
      "cell_type": "code",
      "source": [
        "a=0\n",
        "while [$a -lt 10 ]\n",
        "do \n",
        "  echo $a\n",
        "  a=`expr $a + 1 `\n",
        "done    \n",
        "\n"
      ],
      "metadata": {
        "id": "KYkx2FbP23do"
      },
      "execution_count": null,
      "outputs": []
    }
  ]
}